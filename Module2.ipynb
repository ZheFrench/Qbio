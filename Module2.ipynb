{
 "cells": [
  {
   "cell_type": "markdown",
   "metadata": {},
   "source": [
    "# Module 2 - Composite plots\n",
    "\n",
    "* [PairGrid/PairPlots](#PairPlots)\n",
    "* [FacetGrid](#FacetGrid)\n",
    "* [Jointplots](#Jointplot)\n",
    "* [JointGrid](#JointGrid)\n",
    "\n",
    "\n",
    "There is many plots we can do as describe [here](https://seaborn.pydata.org/examples/index.html)\n",
    "\n",
    "\n",
    "| Function  | Description |\n",
    "| ------------- | ------------- |\n",
    "| FacetGrid | This class maps a dataset onto multiple axes arrayed in a grid of rows and columns that correspond to levels of variables in the dataset.   |\n",
    "| PairGrid | Subplot grid for plotting pairwise relationships in a dataset.|\n",
    "| jointplot | Draw a plot of two variables with bivariate and univariate graphs.|\n",
    "| JointGrid (joinplot for expert) | Grid for drawing a bivariate plot with marginal univariate plots.|\n",
    "\n",
    "<u> Note :<u> If you need more flexibility, you should use JointGrid directly in replacement of joinplot.  \n",
    "\n",
    "\n",
    "Import the libraries.\n",
    "\n",
    "___"
   ]
  },
  {
   "cell_type": "markdown",
   "metadata": {},
   "source": [
    "___\n",
    "\n",
    "# PairPlots\n",
    "\n",
    "Usefull to describe a few set of variables and find some potential patterns/correlations.  \n",
    "You will use pairplot and PairGrid.\n",
    "___\n",
    "With PairGrid try to set the kind of plots you want at bottom , diag and lower part.  \n",
    "Try to set histplot and kdeplot for the top and bottom part.  \n",
    "Check the map_upper function and derivates...\n",
    "\n",
    "Load the dataset penguins.\n",
    "\n"
   ]
  },
  {
   "cell_type": "markdown",
   "metadata": {},
   "source": [
    "___\n",
    "\n",
    "# Facetgrid\n",
    "___\n",
    "\n",
    "Use map and map_dataframe with the iris dataset. \n",
    "map_dataframe is like map but passes args as strings and inserts data in kwargs.\n",
    "\n",
    "Try to plot sepal_width vs sepal_length for the different species using Facetgrid.\n",
    "\n",
    "The FacetGrid class is useful when you want to visualize the distribution of a variable or the relationship between multiple variables separately within subsets of your dataset.  \n",
    "\n",
    "A FacetGrid can be drawn with up to three dimensions: row, col, and hue. The first two have obvious correspondence with the resulting array of axes; think of the hue variable as a third dimension along a depth axis, where different levels are plotted with different colors.\n"
   ]
  },
  {
   "cell_type": "markdown",
   "metadata": {},
   "source": [
    "\n",
    "# jointplot / JointGrid\n",
    "___\n",
    "\n",
    "This function provides a convenient interface to the JointGrid class, with several canned plot kinds. This is intended to be a fairly lightweight wrapper; if you need more flexibility, you should use JointGrid directly.\n",
    "\n",
    "\n",
    "Grid for drawing a bivariate plot with marginal univariate plots.\n",
    "\n",
    "JointDistribution plot in the main plot in the center.\n",
    "Two marginal areas can be customised separately with jointGrid (not jointplot)\n",
    "\n",
    "Load the iris dataset and try to plot sepal_width vs sepal_length. Check for plot_joint and plot_marginals to customize the center and plots aside.\n"
   ]
  }
 ],
 "metadata": {
  "kernelspec": {
   "display_name": "Python 3.11.7 ('base')",
   "language": "python",
   "name": "python3"
  },
  "language_info": {
   "codemirror_mode": {
    "name": "ipython",
    "version": 3
   },
   "file_extension": ".py",
   "mimetype": "text/x-python",
   "name": "python",
   "nbconvert_exporter": "python",
   "pygments_lexer": "ipython3",
   "version": "3.11.7"
  },
  "vscode": {
   "interpreter": {
    "hash": "2796f898c241be261d17d4440712f4c58a6e72713839fe7ec4d10cc08aa00573"
   }
  }
 },
 "nbformat": 4,
 "nbformat_minor": 4
}
