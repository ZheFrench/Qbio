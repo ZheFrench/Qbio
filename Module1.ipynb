{
 "cells": [
  {
   "cell_type": "markdown",
   "metadata": {},
   "source": [
    "# Module 1 - Simple Plots\n",
    "\n",
    "* [Intro](#Introduction)\n",
    "* [First plots](#First-plots)\n",
    "* [Setting asthetics](#Setting-asthetetics,-context,-theme)\n",
    "* [Add pvalues](#Add-pvalues)\n",
    "* [Add standard Errors](#Add-standard-Errors)\n",
    "* [Split plots per category values](#Split-plots)\n",
    "* [Organize subplots in figure](#Organize-subplots-in-figure)\n",
    "* [Stacked/Dodge Histogram](#Histogram)\n",
    "\n",
    "___\n",
    "\n",
    "\n",
    "## Introduction\n",
    "\n",
    "We will work with [seaborn](https://seaborn.pydata.org/index.html) build on top of Matplolib.\n",
    "\n",
    "There is many plots we can do as describe [here](https://seaborn.pydata.org/examples/index.html)\n",
    "\n",
    "We will not cover all of them.\n",
    "\n",
    "| Function  | Description |\n",
    "| ------------- | ------------- |\n",
    "| boxplot | Draw a box plot to show distributions with respect to categories |\n",
    "| kdeplot | Plot univariate or bivariate distributions using kernel density estimation. |\n",
    "| stripplot | Draw a scatterplot where one variable is categorical. |\n",
    "| histplot | Plot univariate or bivariate histograms to show distributions of datasets. |\n",
    "|  |  |\n",
    "| catplot | Figure-level interface for drawing categorical plots onto a FacetGrid.|\n",
    "| displot | Figure-level interface for drawing distribution plots onto a FacetGrid. |\n",
    "| relplot | Figure-level interface for drawing relational plots onto a FacetGrid.  |\n",
    "\n",
    "\n",
    "Import the libraries.  \n",
    "Load the iris dataset. \n",
    "___\n"
   ]
  },
  {
   "cell_type": "markdown",
   "metadata": {},
   "source": [
    "___\n",
    "## First-plots\n",
    "\n",
    "<span style=\"color:blue\">Questions/ToDo : </span>\n",
    "\n",
    "Try to plot 3 different plots, anything you want.  \n",
    "Take examples from the seaborn library.  \n",
    "Then we will try to customize them.  \n",
    "____"
   ]
  },
  {
   "cell_type": "markdown",
   "metadata": {},
   "source": [
    "___\n",
    "## Setting-asthetetics,-context,-theme\n",
    "\n",
    "<span style=\"color:blue\">Questions/ToDo : </span>\n",
    "\n",
    "\n",
    "1 - Set the parameters that control the scaling of plot elements.\n",
    "\n",
    "This affects things like the size of the labels, lines, and other elements of the plot, but not the overall style.   \n",
    "The base context is “notebook”, and the other contexts are “paper”, “talk”, and “poster”  \n",
    "\n",
    "2 - Try to play around the figure aesthetics.It's another set function...\n",
    "___\n",
    "\n"
   ]
  },
  {
   "cell_type": "markdown",
   "metadata": {},
   "source": [
    "___\n",
    "\n",
    "## Add-standard-Errors\n",
    "__\n",
    "\n",
    "<span style=\"color:blue\">Questions/ToDo : </span>\n",
    "\n",
    "\n",
    "Load the dataset \"exercise\" from sns.  \n",
    "Play with catplot function.  \n",
    "This is an interface between several plots (barplot, boxplot etc)\n",
    "[Read this](https://seaborn.pydata.org/tutorial/categorical.html#categorical-tutorial)\n",
    "\n"
   ]
  },
  {
   "cell_type": "markdown",
   "metadata": {},
   "source": [
    "___\n",
    "## Split-plots\n",
    "\n",
    "<span style=\"color:blue\">Questions/ToDo : </span>\n",
    "\n",
    "Load the penguins dataset.\n",
    "\n",
    "Plot the _flipper_length_mm_ by species.  \n",
    "Separate  the figure in two plots using sex values (Male/Femelle).    \n",
    "Plot with _sns.catplot_ but change the type of figure that is plotted (boxplot to swarmplot for example).\n",
    "\n",
    "\n",
    "Try to add the following parameters  : hue kind & col.  \n",
    "What are they doing ?  \n",
    "\n",
    "Which species come from a different island ?\n",
    "\n",
    "\n",
    "\n",
    "\n",
    "For another interface plotting function like _sns.catplot_, you will find several other options : \n",
    "\n",
    "stripplot() (with kind=\"strip\"; the default)   \n",
    "swarmplot() (with kind=\"swarm\")  \n",
    "boxplot() (with kind=\"box\")  \n",
    "violinplot() (with kind=\"violin\")  \n",
    "boxenplot() (with kind=\"boxen\")   \n",
    "pointplot() (with kind=\"point\")  \n",
    "barplot() (with kind=\"bar\")  \n",
    "countplot() (with kind=\"count\") \n",
    "\n",
    "\n",
    "___\n"
   ]
  },
  {
   "cell_type": "markdown",
   "metadata": {},
   "source": [
    "___\n",
    "\n",
    "## Organize subplots in figure\n",
    "\n",
    "<span style=\"color:blue\">Questions/ToDo : </span>\n",
    "\n",
    "\n",
    "Declare the figure with the subplots and axes.  \n",
    "\n",
    "Axes are an array with each subplot.  \n",
    "\n",
    "Set the size of your figure.  \n",
    "\n",
    "We will see in Module 2 that we can do more complex combination of plots.\n",
    "___\n"
   ]
  },
  {
   "cell_type": "markdown",
   "metadata": {},
   "source": [
    "## Histogram\n",
    "\n",
    "<span style=\"color:blue\">Questions/ToDo : </span>\n",
    "\n",
    "Just a quick note for the different histogram you can have.    \n",
    "Do you know what is a stacked or dodge histogram ?\n",
    "\n",
    "Try also the _multiple_ parameter for histogram.\n",
    "\n",
    "**multiple** : {“layer”, “dodge”, “stack”, “fill”}\n",
    "Approach to resolving multiple elements when semantic mapping creates subsets.   Only relevant with univariate data.\n",
    "\n",
    "**stat** : Aggregate statistic to compute in each bin.\n",
    "\n",
    "<u>count</u>: show the number of observations in each bin  \n",
    "<u>frequency</u>: show the number of observations divided by the bin width  \n",
    "<u>probability</u>: or proportion: normalize such that bar heights sum to 1  \n",
    "<u>percent</u>: normalize such that bar heights sum to 100  \n",
    "<u>density</u>: normalize such that the total area of the histogram equals 1  \n",
    "\n"
   ]
  }
 ],
 "metadata": {
  "kernelspec": {
   "display_name": "Python 3",
   "language": "python",
   "name": "python3"
  },
  "language_info": {
   "codemirror_mode": {
    "name": "ipython",
    "version": 3
   },
   "file_extension": ".py",
   "mimetype": "text/x-python",
   "name": "python",
   "nbconvert_exporter": "python",
   "pygments_lexer": "ipython3",
   "version": "3.11.7"
  },
  "vscode": {
   "interpreter": {
    "hash": "2796f898c241be261d17d4440712f4c58a6e72713839fe7ec4d10cc08aa00573"
   }
  }
 },
 "nbformat": 4,
 "nbformat_minor": 4
}
