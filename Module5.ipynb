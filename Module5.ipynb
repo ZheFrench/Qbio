{
 "cells": [
  {
   "cell_type": "markdown",
   "metadata": {},
   "source": [
    "# Module 5 - Calling R from Python to Plot Stuffs with GGPLOT2\n",
    "\n",
    "This is a trick I want to share with you.\n",
    "\n",
    "When I started this tutorial I was doubtful about ploting in python. \n",
    "\n",
    "I love the langage but I was using it for the ML librairies, structure (pandas), software Dev (framework like django, database connexion) and the clarity of the syntax.\n",
    "\n",
    "Usually, I play with R and the ggplot2 graphic librairiy for figures. \n",
    "\n",
    "Don't know why but many of my past and present coworkers do the same.\n",
    "\n",
    "But finally, I find that seaborn is not so bad and there is some stuffs I will reuse for sure (jointGrid).\n",
    "\n",
    "So if one day you are bored with seaborn and that you want to try something else...It's no so hard and you don't need to learn all R ecosystem.\n",
    "\n",
    "Clean and format your data in python.\n",
    "Save a file.  \n",
    "Finally, you can call Rscript and point the file using a simple argument to open it inside R and plot with ggplot. \n",
    "\n",
    "I share just a custom function to get back potential errors from Rscript.\n",
    "\n",
    "___"
   ]
  },
  {
   "cell_type": "code",
   "execution_count": 1,
   "metadata": {},
   "outputs": [
    {
     "name": "stdout",
     "output_type": "stream",
     "text": [
      "[1] \"Let's do this\"\n",
      "[1] \"./data/iris.csv\"\n",
      "  V1 sepal_length sepal_width petal_length petal_width species\n",
      "1  0          5.1         3.5          1.4         0.2  setosa\n",
      "2  1          4.9         3.0          1.4         0.2  setosa\n",
      "3  2          4.7         3.2          1.3         0.2  setosa\n",
      "4  3          4.6         3.1          1.5         0.2  setosa\n",
      "5  4          5.0         3.6          1.4         0.2  setosa\n",
      "6  5          5.4         3.9          1.7         0.4  setosa\n",
      "null device \n",
      "          1 \n",
      "null device \n",
      "          1 \n",
      "null device \n",
      "          1 \n",
      "null device \n",
      "          1 \n",
      "\n"
     ]
    }
   ],
   "source": [
    "\n",
    "import seaborn as sns\n",
    "import subprocess\n",
    "\n",
    "\n",
    "def checkLog(completedProcess):\n",
    "    \"\"\"\n",
    "    Check if everything was ok.\n",
    "  \n",
    "    Args:\n",
    "        completedProcess (obj): Instance of CompletedProcess send by subprocess.run().\n",
    "  \n",
    "    \"\"\"\n",
    "    try :\n",
    "        completedProcess.check_returncode()\n",
    "        print(completedProcess.stdout)\n",
    "    except subprocess.CalledProcessError as exc:\n",
    "                print(exc)  \n",
    "                print(completedProcess.stderr) \n",
    "\n",
    "# load the\n",
    "iris = sns.load_dataset(\"iris\")\n",
    "path2file = \"./data/iris.csv\"\n",
    "\n",
    "# save this to a file\n",
    "iris.to_csv(\"./data/iris.csv\")\n",
    "\n",
    "# Write the command to call R on your dataset in this file.\n",
    "Rcommand =\"Rscript Module5.R --file=\"+path2file\n",
    "\n",
    "# Make a Call\n",
    "R = subprocess.run((Rcommand),stdout=subprocess.PIPE, stderr=subprocess.PIPE,universal_newlines=True,shell=True)\n",
    "\n",
    "# Check Everything went well (custom function I used several times in past projects)\n",
    "checkLog(R)\n",
    "# The output comes from the Rscript.\n",
    "# The null device output message means the plot are created.\n"
   ]
  },
  {
   "cell_type": "code",
   "execution_count": null,
   "metadata": {},
   "outputs": [],
   "source": []
  }
 ],
 "metadata": {
  "kernelspec": {
   "display_name": "Python 3",
   "language": "python",
   "name": "python3"
  },
  "language_info": {
   "codemirror_mode": {
    "name": "ipython",
    "version": 3
   },
   "file_extension": ".py",
   "mimetype": "text/x-python",
   "name": "python",
   "nbconvert_exporter": "python",
   "pygments_lexer": "ipython3",
   "version": "3.8.5"
  }
 },
 "nbformat": 4,
 "nbformat_minor": 4
}
