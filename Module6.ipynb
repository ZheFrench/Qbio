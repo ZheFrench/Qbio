{
 "cells": [
  {
   "cell_type": "markdown",
   "id": "a6ad9c23",
   "metadata": {},
   "source": [
    "# VennDiagram Exercice (https://github.com/ZheFrench/Qbio/)\n",
    "\n",
    "Install matplotlib_venn package.  \n",
    "\n",
    "There is two lists of genes separeted in two files called set1.txt and set2.txt inside data.  \n",
    "\n",
    "Read them with pandas, convert them to list. You can use 'set' to remove duplicate gene names.  \n",
    "\n",
    "Try to create a VenDiagram and save it to a file.  \n",
    "\n",
    "Looking into the doc, you should be able to customize it by adding arrows.  \n"
   ]
  },
  {
   "cell_type": "markdown",
   "id": "9de666ed",
   "metadata": {},
   "source": []
  }
 ],
 "metadata": {
  "kernelspec": {
   "display_name": "Python 3.11.7 ('base')",
   "language": "python",
   "name": "python3"
  },
  "language_info": {
   "codemirror_mode": {
    "name": "ipython",
    "version": 3
   },
   "file_extension": ".py",
   "mimetype": "text/x-python",
   "name": "python",
   "nbconvert_exporter": "python",
   "pygments_lexer": "ipython3",
   "version": "3.11.7"
  },
  "vscode": {
   "interpreter": {
    "hash": "2796f898c241be261d17d4440712f4c58a6e72713839fe7ec4d10cc08aa00573"
   }
  }
 },
 "nbformat": 4,
 "nbformat_minor": 5
}
