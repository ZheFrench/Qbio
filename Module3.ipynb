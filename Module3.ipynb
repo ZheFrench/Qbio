{
 "cells": [
  {
   "cell_type": "markdown",
   "metadata": {},
   "source": [
    "# Module 3 - Heatmap\n",
    "\n",
    "* [Heatmap](#Heatmap)\n",
    "* [Correlation Heatmap](#Correlation-Heatmap)\n",
    "\n",
    "Try to plot the data from /data/MatriceGeneScore_DayTreatment.tsv using ***heatmap*** function or ***clustermap***. \n",
    "\n",
    "What's the difference in the two heatmaps ?\n",
    "\n",
    "Try to set differents parameters for the clustering. See metric and method. \n",
    "\n",
    "What do you see ?\n",
    "\n",
    "Also you should know how to do a clustering and display a dendogram using scipy.cluster.hierarchy. Show me.\n",
    "\n",
    "Remember you need to compute the linkage and then call the dendogram function.\n",
    "\n",
    "----------------------------------------------------------------\n",
    "Now will work on a breast cancer dataset in order to plot a correlation heatmap.\n",
    "\n",
    "```from sklearn.datasets import load_breast_cancer```\n",
    "\n",
    "```cancer = load_breast_cancer()```\n",
    "\n"
   ]
  },
  {
   "cell_type": "markdown",
   "metadata": {},
   "source": [
    "\n",
    "Use the function .corr() to compute the correlation first.\n",
    "\n",
    "Try to mask the bottom part of your plot...\n",
    "\n",
    "\n",
    "___\n"
   ]
  }
 ],
 "metadata": {
  "kernelspec": {
   "display_name": "Python 3.8.5 ('base')",
   "language": "python",
   "name": "python3"
  },
  "language_info": {
   "codemirror_mode": {
    "name": "ipython",
    "version": 3
   },
   "file_extension": ".py",
   "mimetype": "text/x-python",
   "name": "python",
   "nbconvert_exporter": "python",
   "pygments_lexer": "ipython3",
   "version": "3.11.7"
  },
  "vscode": {
   "interpreter": {
    "hash": "2796f898c241be261d17d4440712f4c58a6e72713839fe7ec4d10cc08aa00573"
   }
  }
 },
 "nbformat": 4,
 "nbformat_minor": 4
}
