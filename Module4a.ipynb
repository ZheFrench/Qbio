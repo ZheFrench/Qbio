{
 "cells": [
  {
   "cell_type": "markdown",
   "metadata": {},
   "source": [
    "# Module 4a - Multidimensionality - Wisconsin Cancer Dataset\n",
    "\n",
    "In this module we will work on Wisconsin Cancer Dataset used in Kaggle Competition.\n",
    "\n",
    "from sklearn.datasets import load_breast_cancer\n",
    "\n",
    "cancer = load_breast_cancer() \n",
    "\n",
    "The breast cancer dataset is a classic and very easy **binary classification** dataset.  \n",
    "Cancer are classified  whether the cancer is benign or malignant.\n",
    "\n",
    "\n",
    "| Feature  | Value |\n",
    "| ------------- | ------------- |\n",
    "| Classes            | 2 |\n",
    "| Samples per class  | 212(M),357(B) |\n",
    "| Samples total      | 569 |\n",
    "| Dimensionality     | 30 |\n",
    "\n",
    "Of course, first you can plot distribution individually using what we did before.   \n",
    "\n",
    "When you start to have a lof of variables/features, it can be hard to visualize...\n",
    "\n",
    "So you will use techniques of dimension reduction like PCA, T-SNE .\n",
    "\n",
    "Show me what your learned this morning...\n",
    "\n",
    " PCA (raw data, with standardization and T-SNE)\n"
   ]
  }
 ],
 "metadata": {
  "kernelspec": {
   "display_name": "Python 3.11.7 ('base')",
   "language": "python",
   "name": "python3"
  },
  "language_info": {
   "codemirror_mode": {
    "name": "ipython",
    "version": 3
   },
   "file_extension": ".py",
   "mimetype": "text/x-python",
   "name": "python",
   "nbconvert_exporter": "python",
   "pygments_lexer": "ipython3",
   "version": "3.11.7"
  },
  "vscode": {
   "interpreter": {
    "hash": "2796f898c241be261d17d4440712f4c58a6e72713839fe7ec4d10cc08aa00573"
   }
  }
 },
 "nbformat": 4,
 "nbformat_minor": 4
}
